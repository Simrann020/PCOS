{
  "nbformat": 4,
  "nbformat_minor": 0,
  "metadata": {
    "colab": {
      "provenance": []
    },
    "kernelspec": {
      "name": "python3",
      "display_name": "Python 3"
    },
    "language_info": {
      "name": "python"
    }
  },
  "cells": [
    {
      "cell_type": "code",
      "execution_count": null,
      "metadata": {
        "colab": {
          "base_uri": "https://localhost:8080/"
        },
        "id": "WFpeC17jP5Yu",
        "outputId": "5f6e5404-9c89-45a0-ccc0-3359706b6492"
      },
      "outputs": [
        {
          "output_type": "stream",
          "name": "stdout",
          "text": [
            "Requirement already satisfied: kaggle in /usr/local/lib/python3.11/dist-packages (1.6.17)\n",
            "Requirement already satisfied: six>=1.10 in /usr/local/lib/python3.11/dist-packages (from kaggle) (1.17.0)\n",
            "Requirement already satisfied: certifi>=2023.7.22 in /usr/local/lib/python3.11/dist-packages (from kaggle) (2024.12.14)\n",
            "Requirement already satisfied: python-dateutil in /usr/local/lib/python3.11/dist-packages (from kaggle) (2.8.2)\n",
            "Requirement already satisfied: requests in /usr/local/lib/python3.11/dist-packages (from kaggle) (2.32.3)\n",
            "Requirement already satisfied: tqdm in /usr/local/lib/python3.11/dist-packages (from kaggle) (4.67.1)\n",
            "Requirement already satisfied: python-slugify in /usr/local/lib/python3.11/dist-packages (from kaggle) (8.0.4)\n",
            "Requirement already satisfied: urllib3 in /usr/local/lib/python3.11/dist-packages (from kaggle) (2.3.0)\n",
            "Requirement already satisfied: bleach in /usr/local/lib/python3.11/dist-packages (from kaggle) (6.2.0)\n",
            "Requirement already satisfied: webencodings in /usr/local/lib/python3.11/dist-packages (from bleach->kaggle) (0.5.1)\n",
            "Requirement already satisfied: text-unidecode>=1.3 in /usr/local/lib/python3.11/dist-packages (from python-slugify->kaggle) (1.3)\n",
            "Requirement already satisfied: charset-normalizer<4,>=2 in /usr/local/lib/python3.11/dist-packages (from requests->kaggle) (3.4.1)\n",
            "Requirement already satisfied: idna<4,>=2.5 in /usr/local/lib/python3.11/dist-packages (from requests->kaggle) (3.10)\n"
          ]
        }
      ],
      "source": [
        "!pip install kaggleA"
      ]
    },
    {
      "cell_type": "code",
      "source": [
        "!mkdir -p ~/.kaggle\n",
        "!mv ~/Downloads/kaggle.json ~/.kaggle/\n",
        "!chmod 600 ~/.kaggle/kaggle.json"
      ],
      "metadata": {
        "colab": {
          "base_uri": "https://localhost:8080/"
        },
        "id": "B6YWz6ZeQ7ej",
        "outputId": "86703c33-1576-42a6-fffc-9df1c345d942"
      },
      "execution_count": null,
      "outputs": [
        {
          "output_type": "stream",
          "name": "stdout",
          "text": [
            "mv: cannot stat '/root/Downloads/kaggle.json': No such file or directory\n",
            "chmod: cannot access '/root/.kaggle/kaggle.json': No such file or directory\n"
          ]
        }
      ]
    },
    {
      "cell_type": "code",
      "source": [
        "!kaggle datasets download -d hasaanrana/diet-exercise-and-pcos-insights\n"
      ],
      "metadata": {
        "colab": {
          "base_uri": "https://localhost:8080/"
        },
        "id": "xipGjS-3S1jh",
        "outputId": "b825dc39-9aee-4f2e-cfa9-a97f3e39b0c5"
      },
      "execution_count": null,
      "outputs": [
        {
          "output_type": "stream",
          "name": "stdout",
          "text": [
            "Dataset URL: https://www.kaggle.com/datasets/hasaanrana/diet-exercise-and-pcos-insights\n",
            "License(s): other\n",
            "Downloading diet-exercise-and-pcos-insights.zip to /content\n",
            "  0% 0.00/5.10k [00:00<?, ?B/s]\n",
            "100% 5.10k/5.10k [00:00<00:00, 6.30MB/s]\n"
          ]
        }
      ]
    },
    {
      "cell_type": "code",
      "source": [
        "!kaggle datasets download -d shreyasvedpathak/pcos-dataset"
      ],
      "metadata": {
        "colab": {
          "base_uri": "https://localhost:8080/"
        },
        "id": "xKzHzTjAV-BG",
        "outputId": "13da25b9-8e28-413a-adfe-b5e8d3a398c6"
      },
      "execution_count": null,
      "outputs": [
        {
          "output_type": "stream",
          "name": "stdout",
          "text": [
            "Dataset URL: https://www.kaggle.com/datasets/shreyasvedpathak/pcos-dataset\n",
            "License(s): copyright-authors\n",
            "Downloading pcos-dataset.zip to /content\n",
            "  0% 0.00/27.5k [00:00<?, ?B/s]\n",
            "100% 27.5k/27.5k [00:00<00:00, 26.8MB/s]\n"
          ]
        }
      ]
    },
    {
      "cell_type": "code",
      "source": [
        "!kaggle datasets download -d ankushpanday1/pcos-prediction-datasettop-75-countries"
      ],
      "metadata": {
        "colab": {
          "base_uri": "https://localhost:8080/"
        },
        "id": "zcXUcUYPagM9",
        "outputId": "628adf71-e14c-45d3-a4b1-3c736a852e09"
      },
      "execution_count": null,
      "outputs": [
        {
          "output_type": "stream",
          "name": "stdout",
          "text": [
            "Dataset URL: https://www.kaggle.com/datasets/ankushpanday1/pcos-prediction-datasettop-75-countries\n",
            "License(s): MIT\n",
            "Downloading pcos-prediction-datasettop-75-countries.zip to /content\n",
            "  0% 0.00/2.52M [00:00<?, ?B/s]\n",
            "100% 2.52M/2.52M [00:00<00:00, 136MB/s]\n"
          ]
        }
      ]
    },
    {
      "cell_type": "code",
      "source": [
        "!kaggle datasets download -d sahilkoli04/pcos2023"
      ],
      "metadata": {
        "colab": {
          "base_uri": "https://localhost:8080/"
        },
        "id": "ieBjtokKainf",
        "outputId": "1da24117-dda8-4639-8767-23e688236593"
      },
      "execution_count": null,
      "outputs": [
        {
          "output_type": "stream",
          "name": "stdout",
          "text": [
            "Dataset URL: https://www.kaggle.com/datasets/sahilkoli04/pcos2023\n",
            "License(s): CC0-1.0\n",
            "Downloading pcos2023.zip to /content\n",
            "  0% 0.00/4.53k [00:00<?, ?B/s]\n",
            "100% 4.53k/4.53k [00:00<00:00, 4.86MB/s]\n"
          ]
        }
      ]
    },
    {
      "cell_type": "code",
      "source": [
        "!kaggle datasets download -d  ayamoheddine/pcos-dataset"
      ],
      "metadata": {
        "colab": {
          "base_uri": "https://localhost:8080/"
        },
        "id": "Nu2EN2Jfa1mQ",
        "outputId": "b24f7e88-f76f-4c06-9e24-f9ceb2aefef7"
      },
      "execution_count": null,
      "outputs": [
        {
          "output_type": "stream",
          "name": "stdout",
          "text": [
            "Dataset URL: https://www.kaggle.com/datasets/ayamoheddine/pcos-dataset\n",
            "License(s): unknown\n",
            "Downloading pcos-dataset.zip to /content\n",
            "... resuming from 28193 bytes (-23 bytes left) ...\n",
            "416 - Requested range not satisfiable\n"
          ]
        }
      ]
    },
    {
      "cell_type": "code",
      "source": [
        "!kaggle datasets download -d  prasadbobby/pcosdata"
      ],
      "metadata": {
        "colab": {
          "base_uri": "https://localhost:8080/"
        },
        "id": "H3hdRzY-bHVT",
        "outputId": "d453f6c6-d045-4a0d-d384-954bfa5ad01d"
      },
      "execution_count": null,
      "outputs": [
        {
          "output_type": "stream",
          "name": "stdout",
          "text": [
            "Dataset URL: https://www.kaggle.com/datasets/prasadbobby/pcosdata\n",
            "License(s): unknown\n",
            "Downloading pcosdata.zip to /content\n",
            "  0% 0.00/29.6k [00:00<?, ?B/s]\n",
            "100% 29.6k/29.6k [00:00<00:00, 31.0MB/s]\n"
          ]
        }
      ]
    },
    {
      "cell_type": "code",
      "source": [
        "!kaggle datasets download -d cm037divya/pcos-dataset"
      ],
      "metadata": {
        "colab": {
          "base_uri": "https://localhost:8080/"
        },
        "id": "X4wemRQsbeOC",
        "outputId": "40a23684-0a75-4702-fa58-b7831f3cf9bc"
      },
      "execution_count": null,
      "outputs": [
        {
          "output_type": "stream",
          "name": "stdout",
          "text": [
            "Dataset URL: https://www.kaggle.com/datasets/cm037divya/pcos-dataset\n",
            "License(s): DbCL-1.0\n",
            "Downloading pcos-dataset.zip to /content\n",
            "... resuming from 28193 bytes (169117 bytes left) ...\n",
            " 14% 27.5k/193k [00:00<?, ?B/s]\n",
            "100% 193k/193k [00:00<00:00, 59.0MB/s]\n"
          ]
        }
      ]
    },
    {
      "cell_type": "code",
      "source": [],
      "metadata": {
        "id": "YX6FuGU2bm6x"
      },
      "execution_count": null,
      "outputs": []
    }
  ]
}