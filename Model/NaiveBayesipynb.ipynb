{
  "nbformat": 4,
  "nbformat_minor": 0,
  "metadata": {
    "colab": {
      "provenance": []
    },
    "kernelspec": {
      "name": "python3",
      "display_name": "Python 3"
    },
    "language_info": {
      "name": "python"
    }
  },
  "cells": [
    {
      "cell_type": "code",
      "execution_count": 2,
      "metadata": {
        "colab": {
          "base_uri": "https://localhost:8080/"
        },
        "id": "m4RV7_4yMxb_",
        "outputId": "38d6b897-4ac2-428d-97b2-645c5542f8d8"
      },
      "outputs": [
        {
          "output_type": "stream",
          "name": "stdout",
          "text": [
            "Raw Core PCOS Dataset Sample:\n",
            "   Sl. No  Patient File No.  PCOS (Y/N)   Age (yrs)  Weight (Kg)  Height(Cm)   \\\n",
            "0       1                 1           0        28.0         44.6        152.0   \n",
            "1       2                 2           0        36.0         65.0        161.5   \n",
            "2       3                 3           1        33.0         68.8        165.0   \n",
            "3       4                 4           0        37.0         65.0        148.0   \n",
            "4       5                 5           0        25.0         52.0        161.0   \n",
            "\n",
            "    BMI  Blood Group  Pulse rate(bpm)   RR (breaths/min)  ...  Pimples(Y/N)  \\\n",
            "0  19.3         15.0              78.0              22.0  ...           0.0   \n",
            "1  24.9         15.0              74.0              20.0  ...           0.0   \n",
            "2  25.3         11.0              72.0              18.0  ...           1.0   \n",
            "3  29.7         13.0              72.0              20.0  ...           0.0   \n",
            "4  20.1         11.0              72.0              18.0  ...           0.0   \n",
            "\n",
            "   Fast food (Y/N)  Reg.Exercise(Y/N)  BP _Systolic (mmHg)  \\\n",
            "0              1.0                0.0                110.0   \n",
            "1              0.0                0.0                120.0   \n",
            "2              1.0                0.0                120.0   \n",
            "3              0.0                0.0                120.0   \n",
            "4              0.0                0.0                120.0   \n",
            "\n",
            "   BP _Diastolic (mmHg)  Follicle No. (L)  Follicle No. (R)  \\\n",
            "0                  80.0               3.0               3.0   \n",
            "1                  70.0               3.0               5.0   \n",
            "2                  80.0              13.0              15.0   \n",
            "3                  70.0               2.0               2.0   \n",
            "4                  80.0               3.0               4.0   \n",
            "\n",
            "   Avg. F size (L) (mm)  Avg. F size (R) (mm)  Endometrium (mm)  \n",
            "0                  18.0                  18.0               8.5  \n",
            "1                  15.0                  14.0               3.7  \n",
            "2                  18.0                  20.0              10.0  \n",
            "3                  15.0                  14.0               7.5  \n",
            "4                  16.0                  14.0               7.0  \n",
            "\n",
            "[5 rows x 44 columns]\n"
          ]
        }
      ],
      "source": [
        "# Import necessary libraries\n",
        "import pandas as pd\n",
        "\n",
        "# Load the Core PCOS Dataset\n",
        "core_pcos_df = pd.read_csv(\"Core_PCOS_Dataset_Cleaned.csv\")\n",
        "\n",
        "# Display a sample of the raw dataset before preprocessing\n",
        "print(\"Raw Core PCOS Dataset Sample:\")\n",
        "print(core_pcos_df.head())\n"
      ]
    },
    {
      "cell_type": "code",
      "source": [
        "# Step 2: Cleaning and Preprocessing the Data (re-run with full display)\n",
        "\n",
        "\n",
        "# Clean column names\n",
        "core_pcos_df.columns = core_pcos_df.columns.str.strip()\n",
        "\n",
        "# Selecting relevant features and converting to appropriate types\n",
        "selected_columns = [\"Age (yrs)\", \"BMI\", \"hair growth(Y/N)\", \"Hair loss(Y/N)\", \"Pimples(Y/N)\", \"PCOS (Y/N)\"]\n",
        "pcos_df = core_pcos_df[selected_columns].copy()\n",
        "\n",
        "# Convert categorical values to numerical\n",
        "pcos_df[\"hair growth(Y/N)\"] = pcos_df[\"hair growth(Y/N)\"].astype(int)\n",
        "pcos_df[\"Hair loss(Y/N)\"] = pcos_df[\"Hair loss(Y/N)\"].astype(int)\n",
        "pcos_df[\"Pimples(Y/N)\"] = pcos_df[\"Pimples(Y/N)\"].astype(int)\n",
        "pcos_df[\"PCOS (Y/N)\"] = pcos_df[\"PCOS (Y/N)\"].astype(int)\n",
        "\n",
        "# Display first 50 rows\n",
        "print(\"Cleaned and Preprocessed PCOS Dataset Sample (first 50 rows):\\n\")\n",
        "print(pcos_df.head(50).to_string(index=False))\n"
      ],
      "metadata": {
        "colab": {
          "base_uri": "https://localhost:8080/"
        },
        "id": "Z_3uKKn8Nqi5",
        "outputId": "0f46de4c-54bc-4adb-fd46-76b01663e25a"
      },
      "execution_count": 9,
      "outputs": [
        {
          "output_type": "stream",
          "name": "stdout",
          "text": [
            "Cleaned and Preprocessed PCOS Dataset Sample (first 50 rows):\n",
            "\n",
            " Age (yrs)  BMI  hair growth(Y/N)  Hair loss(Y/N)  Pimples(Y/N)  PCOS (Y/N)\n",
            "      28.0 19.3                 0               0             0           0\n",
            "      36.0 24.9                 0               0             0           0\n",
            "      33.0 25.3                 0               1             1           1\n",
            "      37.0 29.7                 0               0             0           0\n",
            "      25.0 20.1                 0               1             0           0\n",
            "      36.0 27.2                 0               1             0           0\n",
            "      34.0 26.3                 0               0             0           0\n",
            "      33.0 23.1                 0               0             0           0\n",
            "      32.0 16.0                 0               0             0           0\n",
            "      36.0 23.1                 0               0             0           0\n",
            "      20.0 26.7                 0               0             0           0\n",
            "      26.0 19.1                 0               0             0           0\n",
            "      25.0 32.0                 1               1             1           1\n",
            "      38.0 21.6                 0               0             0           0\n",
            "      34.0 21.8                 0               1             1           0\n",
            "      38.0 33.9                 0               0             0           0\n",
            "      29.0 19.6                 0               0             0           0\n",
            "      36.0 27.0                 0               0             0           0\n",
            "      31.0 20.7                 0               0             0           0\n",
            "      30.0 31.2                 1               1             1           1\n",
            "      25.0 26.3                 0               0             0           0\n",
            "      38.0 20.5                 0               0             0           0\n",
            "      34.0 26.7                 0               0             0           0\n",
            "      28.0 28.1                 0               0             1           0\n",
            "      34.0 25.2                 1               0             1           1\n",
            "      41.0 18.2                 0               0             0           0\n",
            "      30.0 29.7                 1               1             1           1\n",
            "      20.0 29.4                 0               0             0           0\n",
            "      25.0 24.8                 0               0             0           0\n",
            "      28.0 24.2                 0               0             1           1\n",
            "      32.0 20.8                 0               0             0           0\n",
            "      34.0 25.3                 1               1             1           1\n",
            "      31.0 24.1                 0               0             0           0\n",
            "      38.0 19.8                 0               0             0           0\n",
            "      28.0 20.0                 0               0             0           0\n",
            "      32.0 26.1                 0               0             0           0\n",
            "      37.0 29.2                 0               0             0           0\n",
            "      26.0 29.2                 0               0             0           0\n",
            "      36.0 21.2                 0               0             0           0\n",
            "      20.0 25.3                 0               0             0           0\n",
            "      32.0 16.4                 0               0             0           0\n",
            "      29.0 28.7                 0               0             0           0\n",
            "      28.0 13.4                 0               0             0           0\n",
            "      24.0 25.0                 0               0             0           0\n",
            "      29.0 23.6                 1               1             1           1\n",
            "      25.0 23.3                 0               0             0           0\n",
            "      28.0 27.5                 1               1             1           1\n",
            "      26.0 16.4                 0               0             0           0\n",
            "      34.0 21.2                 0               0             0           0\n",
            "      27.0 21.5                 1               1             1           1\n"
          ]
        }
      ]
    },
    {
      "cell_type": "code",
      "source": [
        "# Step 3: Splitting the Data into Training and Testing Sets\n",
        "\n",
        "from sklearn.model_selection import train_test_split\n",
        "\n",
        "# Defining features (X) and target variable (y)\n",
        "X = pcos_df.drop(columns=[\"PCOS (Y/N)\"])  # Features\n",
        "y = pcos_df[\"PCOS (Y/N)\"]  # Target variable\n",
        "\n",
        "# Splitting the dataset into training (80%) and testing (20%) sets\n",
        "X_train, X_test, y_train, y_test = train_test_split(X, y, test_size=0.2, random_state=42)\n",
        "\n",
        "# Display the shapes of the training and testing sets\n",
        "print(\"Training Set Shape:\", X_train.shape, y_train.shape)\n",
        "print(\"Testing Set Shape:\", X_test.shape, y_test.shape)\n",
        "\n",
        "# Display a small sample of the training and testing sets\n",
        "print(\"\\nTraining Data Sample:\")\n",
        "print(X_train.head(15))\n",
        "\n",
        "print(\"\\nTesting Data Sample:\")\n",
        "print(X_test.head(15))\n"
      ],
      "metadata": {
        "colab": {
          "base_uri": "https://localhost:8080/"
        },
        "id": "s4wOJLpFNyt0",
        "outputId": "8c6c2f6a-0b21-4ba2-bdd8-154a99e13ac8"
      },
      "execution_count": 11,
      "outputs": [
        {
          "output_type": "stream",
          "name": "stdout",
          "text": [
            "Training Set Shape: (865, 5) (865,)\n",
            "Testing Set Shape: (217, 5) (217,)\n",
            "\n",
            "Training Data Sample:\n",
            "      Age (yrs)   BMI  hair growth(Y/N)  Hair loss(Y/N)  Pimples(Y/N)\n",
            "816        31.0  24.2                 0               0             0\n",
            "237        25.0  17.7                 0               1             1\n",
            "621        31.0  24.2                 0               0             0\n",
            "630        31.0  24.2                 0               0             0\n",
            "275        27.0  20.3                 0               0             0\n",
            "306        41.0  16.6                 1               0             1\n",
            "593        31.0  24.2                 0               0             0\n",
            "344        36.0  24.8                 0               1             1\n",
            "855        31.0  24.2                 0               0             0\n",
            "1034       31.0  24.2                 0               0             0\n",
            "598        31.0  24.2                 0               0             0\n",
            "841        31.0  24.2                 0               0             0\n",
            "935        31.0  24.2                 0               0             0\n",
            "289        27.0  24.8                 1               1             1\n",
            "796        31.0  24.2                 0               0             0\n",
            "\n",
            "Testing Data Sample:\n",
            "      Age (yrs)   BMI  hair growth(Y/N)  Hair loss(Y/N)  Pimples(Y/N)\n",
            "56         38.0  21.9                 0               0             0\n",
            "451        30.0  16.9                 0               0             0\n",
            "588        31.0  24.2                 0               0             0\n",
            "704        31.0  24.2                 0               0             0\n",
            "51         23.0  21.6                 0               0             0\n",
            "932        31.0  24.2                 0               0             0\n",
            "605        31.0  24.2                 0               0             0\n",
            "866        31.0  24.2                 0               0             0\n",
            "70         33.0  24.0                 0               0             0\n",
            "821        31.0  24.2                 0               0             0\n",
            "617        31.0  24.2                 0               0             0\n",
            "697        31.0  24.2                 0               0             0\n",
            "101        34.0  28.2                 0               0             0\n",
            "1076       31.0  24.2                 0               0             0\n",
            "913        31.0  24.2                 0               0             0\n"
          ]
        }
      ]
    },
    {
      "cell_type": "code",
      "source": [
        "# Step 4: Implementing Naïve Bayes Models (Multinomial, Bernoulli, and Gaussian)\n",
        "\n",
        "from sklearn.naive_bayes import MultinomialNB, BernoulliNB, GaussianNB\n",
        "\n",
        "# Multinomial Naïve Bayes (MNB) - Used for discrete data, often for text classification.\n",
        "mnb = MultinomialNB()\n",
        "mnb.fit(X_train, y_train)\n",
        "y_pred_mnb = mnb.predict(X_test)\n",
        "\n",
        "# Bernoulli Naïve Bayes (BNB) - Used for binary/boolean features.\n",
        "bnb = BernoulliNB()\n",
        "bnb.fit(X_train, y_train)\n",
        "y_pred_bnb = bnb.predict(X_test)\n",
        "\n",
        "# Gaussian Naïve Bayes (GNB) - Used for continuous variables (follows a normal distribution).\n",
        "gnb = GaussianNB()\n",
        "gnb.fit(X_train, y_train)\n",
        "y_pred_gnb = gnb.predict(X_test)\n",
        "\n",
        "# Model training completed\n",
        "print(\"Naïve Bayes models have been trained successfully.\")\n"
      ],
      "metadata": {
        "colab": {
          "base_uri": "https://localhost:8080/"
        },
        "id": "dNgVM1roOCcA",
        "outputId": "2245c2c8-80b5-4aba-dc6a-23a12fcdfc1e"
      },
      "execution_count": 4,
      "outputs": [
        {
          "output_type": "stream",
          "name": "stdout",
          "text": [
            "Naïve Bayes models have been trained successfully.\n"
          ]
        }
      ]
    },
    {
      "cell_type": "code",
      "source": [
        "# Step 5: Evaluating the Model Performance\n",
        "\n",
        "from sklearn.metrics import accuracy_score, confusion_matrix\n",
        "\n",
        "# Calculate accuracy for each model\n",
        "accuracy_mnb = accuracy_score(y_test, y_pred_mnb)\n",
        "accuracy_bnb = accuracy_score(y_test, y_pred_bnb)\n",
        "accuracy_gnb = accuracy_score(y_test, y_pred_gnb)\n",
        "\n",
        "# Compute confusion matrices\n",
        "conf_matrix_mnb = confusion_matrix(y_test, y_pred_mnb)\n",
        "conf_matrix_bnb = confusion_matrix(y_test, y_pred_bnb)\n",
        "conf_matrix_gnb = confusion_matrix(y_test, y_pred_gnb)\n",
        "\n",
        "# Display accuracy results\n",
        "print(\"Model Accuracy Scores:\")\n",
        "print(f\"Multinomial Naïve Bayes Accuracy: {accuracy_mnb:.2f}\")\n",
        "print(f\"Bernoulli Naïve Bayes Accuracy: {accuracy_bnb:.2f}\")\n",
        "print(f\"Gaussian Naïve Bayes Accuracy: {accuracy_gnb:.2f}\")\n",
        "\n",
        "# Display confusion matrices\n",
        "print(\"\\nConfusion Matrix - Multinomial NB:\")\n",
        "print(conf_matrix_mnb)\n",
        "\n",
        "print(\"\\nConfusion Matrix - Bernoulli NB:\")\n",
        "print(conf_matrix_bnb)\n",
        "\n",
        "print(\"\\nConfusion Matrix - Gaussian NB:\")\n",
        "print(conf_matrix_gnb)\n"
      ],
      "metadata": {
        "colab": {
          "base_uri": "https://localhost:8080/"
        },
        "id": "XpsqIJLoOLce",
        "outputId": "c496ceb5-2cf5-4c5c-e176-8ef0684ce191"
      },
      "execution_count": 5,
      "outputs": [
        {
          "output_type": "stream",
          "name": "stdout",
          "text": [
            "Model Accuracy Scores:\n",
            "Multinomial Naïve Bayes Accuracy: 0.74\n",
            "Bernoulli Naïve Bayes Accuracy: 0.75\n",
            "Gaussian Naïve Bayes Accuracy: 0.71\n",
            "\n",
            "Confusion Matrix - Multinomial NB:\n",
            "[[139   9]\n",
            " [ 47  22]]\n",
            "\n",
            "Confusion Matrix - Bernoulli NB:\n",
            "[[140   8]\n",
            " [ 47  22]]\n",
            "\n",
            "Confusion Matrix - Gaussian NB:\n",
            "[[127  21]\n",
            " [ 42  27]]\n"
          ]
        }
      ]
    },
    {
      "cell_type": "code",
      "source": [
        "# Step 6: Visualizing the Results\n",
        "\n",
        "import matplotlib.pyplot as plt\n",
        "import seaborn as sns\n",
        "\n",
        "# Set up figure and axes for multiple confusion matrices\n",
        "fig, axes = plt.subplots(1, 3, figsize=(18, 5))\n",
        "\n",
        "# Plot Confusion Matrix for Multinomial Naïve Bayes\n",
        "sns.heatmap(conf_matrix_mnb, annot=True, fmt=\"d\", cmap=\"Blues\", ax=axes[0])\n",
        "axes[0].set_title(f\"Multinomial NB Confusion Matrix\\nAccuracy: {accuracy_mnb:.2f}\")\n",
        "\n",
        "# Plot Confusion Matrix for Bernoulli Naïve Bayes\n",
        "sns.heatmap(conf_matrix_bnb, annot=True, fmt=\"d\", cmap=\"Greens\", ax=axes[1])\n",
        "axes[1].set_title(f\"Bernoulli NB Confusion Matrix\\nAccuracy: {accuracy_bnb:.2f}\")\n",
        "\n",
        "# Plot Confusion Matrix for Gaussian Naïve Bayes\n",
        "sns.heatmap(conf_matrix_gnb, annot=True, fmt=\"d\", cmap=\"Oranges\", ax=axes[2])\n",
        "axes[2].set_title(f\"Gaussian NB Confusion Matrix\\nAccuracy: {accuracy_gnb:.2f}\")\n",
        "\n",
        "# Display the visualizations\n",
        "plt.show()\n"
      ],
      "metadata": {
        "colab": {
          "base_uri": "https://localhost:8080/",
          "height": 325
        },
        "id": "1IgVhhEyOR7M",
        "outputId": "cbc84fb7-0272-4f56-a40f-ffa8bb142871"
      },
      "execution_count": 6,
      "outputs": [
        {
          "output_type": "display_data",
          "data": {
            "text/plain": [
              "<Figure size 1800x500 with 6 Axes>"
            ],
            "image/png": "[encoded data removed]"
          },
          "metadata": {}
        }
      ]
    },
    {
      "cell_type": "markdown",
      "source": [
        "## For Global PCOS Demographics Dataset"
      ],
      "metadata": {
        "id": "9_mH_2ElnNNU"
      }
    },
    {
      "cell_type": "code",
      "source": [],
      "metadata": {
        "id": "M4TGncxUkhBK"
      },
      "execution_count": null,
      "outputs": []
    },
    {
      "cell_type": "code",
      "source": [
        "# Step 1: Loading and Displaying the Raw Dataset (Global PCOS Demographics)\n",
        "\n",
        "# Load the dataset\n",
        "global_pcos_df = pd.read_csv(\"Global_PCOS_Demographics_Cleaned.csv\")\n",
        "\n",
        "# Display a sample of the raw dataset before preprocessing\n",
        "print(\"Raw Global PCOS Demographics Dataset Sample:\")\n",
        "print(global_pcos_df.head())\n"
      ],
      "metadata": {
        "id": "mhIz5UNTOakS",
        "colab": {
          "base_uri": "https://localhost:8080/"
        },
        "outputId": "c3c70d30-bd8d-452a-cab8-297e156ece3d"
      },
      "execution_count": 3,
      "outputs": [
        {
          "output_type": "stream",
          "name": "stdout",
          "text": [
            "Raw Global PCOS Demographics Dataset Sample:\n",
            "      Country  Age          BMI Menstrual_Regularity Hirsutism Acne_Severity  \\\n",
            "0  Madagascar   26   overweight              regular       yes        severe   \n",
            "1     Vietnam   16  underweight              regular       yes           NaN   \n",
            "2     Somalia   41       normal              regular        no      moderate   \n",
            "3      Malawi   27       normal            irregular        no          mild   \n",
            "4      France   26   overweight            irregular       yes           NaN   \n",
            "\n",
            "  Family_History_of_PCOS Insulin_Resistance  Lifestyle_Score Stress_Levels  \\\n",
            "0                    yes                yes                2           low   \n",
            "1                     no                yes                4          high   \n",
            "2                     no                 no                7        medium   \n",
            "3                     no                 no               10           low   \n",
            "4                     no                 no                7        medium   \n",
            "\n",
            "  Urban_Rural Socioeconomic_Status Awareness_of_PCOS Fertility_Concerns  \\\n",
            "0       rural                 high               yes                 no   \n",
            "1       rural               middle               yes                 no   \n",
            "2       urban               middle               yes                yes   \n",
            "3       urban                 high               yes                 no   \n",
            "4       urban               middle                no                 no   \n",
            "\n",
            "   Undiagnosed_PCOS_Likelihood  Ethnicity Diagnosis  \n",
            "0                     0.107938   hispanic       yes  \n",
            "1                     0.156729      other        no  \n",
            "2                     0.202901      other        no  \n",
            "3                     0.073926  caucasian       yes  \n",
            "4                     0.229266  caucasian        no  \n"
          ]
        }
      ]
    },
    {
      "cell_type": "code",
      "source": [
        "# Step 2: Cleaning and Preprocessing the Data (Global PCOS Demographics)\n",
        "\n",
        "# Strip any extra spaces from column names\n",
        "global_pcos_df.columns = global_pcos_df.columns.str.strip()\n",
        "\n",
        "# Selecting relevant features and target variable for Naïve Bayes classification\n",
        "selected_columns = [\"Age\", \"BMI\", \"Hirsutism\", \"Insulin_Resistance\", \"Undiagnosed_PCOS_Likelihood\", \"Diagnosis\"]\n",
        "pcos_demo_df = global_pcos_df[selected_columns].copy()\n",
        "\n",
        "# Convert categorical variables to numerical\n",
        "pcos_demo_df[\"Hirsutism\"] = pcos_demo_df[\"Hirsutism\"].map({\"yes\": 1, \"no\": 0})\n",
        "pcos_demo_df[\"Insulin_Resistance\"] = pcos_demo_df[\"Insulin_Resistance\"].map({\"yes\": 1, \"no\": 0})\n",
        "pcos_demo_df[\"Diagnosis\"] = pcos_demo_df[\"Diagnosis\"].map({\"yes\": 1, \"no\": 0})\n",
        "\n",
        "# Convert BMI categories into numerical labels\n",
        "bmi_mapping = {\"underweight\": 0, \"normal\": 1, \"overweight\": 2, \"obese\": 3}\n",
        "pcos_demo_df[\"BMI\"] = pcos_demo_df[\"BMI\"].map(bmi_mapping)\n",
        "\n",
        "# Drop rows with missing values after transformations\n",
        "pcos_demo_df.dropna(inplace=True)\n",
        "\n",
        "# Display cleaned dataset sample\n",
        "print(\"Cleaned and Preprocessed Global PCOS Demographics Dataset Sample:\")\n",
        "print(pcos_demo_df.head(25).to_string(index=False))\n"
      ],
      "metadata": {
        "colab": {
          "base_uri": "https://localhost:8080/"
        },
        "id": "eBF8xt1EnglM",
        "outputId": "71b9c78d-f112-4cb8-fcd6-959903271693"
      },
      "execution_count": 6,
      "outputs": [
        {
          "output_type": "stream",
          "name": "stdout",
          "text": [
            "Cleaned and Preprocessed Global PCOS Demographics Dataset Sample:\n",
            " Age  BMI  Hirsutism  Insulin_Resistance  Undiagnosed_PCOS_Likelihood  Diagnosis\n",
            "  26    2          1                   1                     0.107938          1\n",
            "  16    0          1                   1                     0.156729          0\n",
            "  41    1          0                   0                     0.202901          0\n",
            "  27    1          0                   0                     0.073926          1\n",
            "  26    2          1                   0                     0.229266          0\n",
            "  17    2          0                   1                     0.209841          0\n",
            "  39    3          1                   1                     0.208062          0\n",
            "  38    1          1                   0                     0.205957          0\n",
            "  47    1          1                   0                     0.103628          1\n",
            "  21    0          0                   0                     0.102774          0\n",
            "  25    1          1                   0                     0.181860          0\n",
            "  20    1          0                   0                     0.180213          0\n",
            "  46    0          0                   1                     0.232999          0\n",
            "  39    1          1                   0                     0.167554          0\n",
            "  19    2          1                   0                     0.116935          0\n",
            "  26    1          1                   1                     0.114725          0\n",
            "  35    1          0                   0                     0.126046          0\n",
            "  48    2          1                   0                     0.224517          0\n",
            "  22    2          1                   0                     0.061689          0\n",
            "  29    0          0                   0                     0.228870          0\n",
            "  31    2          0                   0                     0.051418          0\n",
            "  20    2          0                   0                     0.197916          0\n",
            "  36    1          1                   0                     0.155154          0\n",
            "  37    1          1                   0                     0.105762          0\n",
            "  20    3          1                   0                     0.239350          0\n"
          ]
        }
      ]
    },
    {
      "cell_type": "code",
      "source": [
        "# Step 3: Splitting the Data into Training and Testing Sets\n",
        "\n",
        "from sklearn.model_selection import train_test_split\n",
        "\n",
        "# Defining features (X) and target variable (y)\n",
        "X_demo = pcos_demo_df.drop(columns=[\"Diagnosis\"])  # Features\n",
        "y_demo = pcos_demo_df[\"Diagnosis\"]  # Target variable\n",
        "\n",
        "# Splitting the dataset into training (80%) and testing (20%) sets\n",
        "X_train_demo, X_test_demo, y_train_demo, y_test_demo = train_test_split(X_demo, y_demo, test_size=0.2, random_state=42)\n",
        "\n",
        "# Display the shapes of the training and testing sets\n",
        "print(\"Training Set Shape:\", X_train_demo.shape, y_train_demo.shape)\n",
        "print(\"Testing Set Shape:\", X_test_demo.shape, y_test_demo.shape)\n",
        "\n",
        "# Display a small sample of the training and testing sets\n",
        "print(\"\\nTraining Data Sample:\")\n",
        "print(X_train_demo.head(15))\n",
        "\n",
        "print(\"\\nTesting Data Sample:\")\n",
        "print(X_test_demo.head(15))\n"
      ],
      "metadata": {
        "colab": {
          "base_uri": "https://localhost:8080/"
        },
        "id": "DVL3WEA_n8QE",
        "outputId": "b35366ba-db5f-4e00-efd0-bbc37fcafd16"
      },
      "execution_count": 7,
      "outputs": [
        {
          "output_type": "stream",
          "name": "stdout",
          "text": [
            "Training Set Shape: (96000, 5) (96000,)\n",
            "Testing Set Shape: (24000, 5) (24000,)\n",
            "\n",
            "Training Data Sample:\n",
            "        Age  BMI  Hirsutism  Insulin_Resistance  Undiagnosed_PCOS_Likelihood\n",
            "53541    39    3          1                   0                     0.190579\n",
            "41728    32    1          0                   1                     0.062731\n",
            "74819    34    1          1                   0                     0.115914\n",
            "106459   16    0          0                   0                     0.158006\n",
            "63062    27    2          1                   0                     0.062053\n",
            "84657    23    2          1                   0                     0.206207\n",
            "37747    46    2          0                   0                     0.167963\n",
            "58864    25    1          0                   0                     0.117106\n",
            "1364     32    2          1                   0                     0.101990\n",
            "8731     29    2          1                   0                     0.235131\n",
            "19586    21    3          0                   0                     0.177913\n",
            "50855    42    0          1                   1                     0.147266\n",
            "21608    23    0          0                   0                     0.165975\n",
            "91981    26    2          0                   0                     0.128531\n",
            "78272    42    1          0                   1                     0.099211\n",
            "\n",
            "Testing Data Sample:\n",
            "        Age  BMI  Hirsutism  Insulin_Resistance  Undiagnosed_PCOS_Likelihood\n",
            "71787    47    3          0                   0                     0.243078\n",
            "67218    35    1          0                   1                     0.147153\n",
            "54066    21    2          1                   1                     0.132123\n",
            "7168     31    3          1                   0                     0.126608\n",
            "29618    31    3          1                   1                     0.103016\n",
            "101425   35    1          1                   0                     0.155994\n",
            "20441    49    0          0                   0                     0.115727\n",
            "2662     27    2          0                   0                     0.215069\n",
            "20371    46    1          0                   0                     0.054126\n",
            "108151   49    3          0                   0                     0.103533\n",
            "15315    37    1          1                   0                     0.226629\n",
            "23538    48    1          0                   0                     0.239741\n",
            "113198   27    2          0                   0                     0.101165\n",
            "201      27    3          0                   0                     0.142578\n",
            "52090    46    2          1                   1                     0.220767\n"
          ]
        }
      ]
    },
    {
      "cell_type": "code",
      "source": [
        "# Step 4: Implementing Naïve Bayes Models (Multinomial, Bernoulli, and Gaussian)\n",
        "\n",
        "from sklearn.naive_bayes import MultinomialNB, BernoulliNB, GaussianNB\n",
        "\n",
        "# Multinomial Naïve Bayes (MNB) - Used for discrete data like text classification.\n",
        "mnb_demo = MultinomialNB()\n",
        "mnb_demo.fit(X_train_demo, y_train_demo)\n",
        "y_pred_mnb_demo = mnb_demo.predict(X_test_demo)\n",
        "\n",
        "# Bernoulli Naïve Bayes (BNB) - Used for binary/boolean features.\n",
        "bnb_demo = BernoulliNB()\n",
        "bnb_demo.fit(X_train_demo, y_train_demo)\n",
        "y_pred_bnb_demo = bnb_demo.predict(X_test_demo)\n",
        "\n",
        "# Gaussian Naïve Bayes (GNB) - Used for continuous variables assuming normal distribution.\n",
        "gnb_demo = GaussianNB()\n",
        "gnb_demo.fit(X_train_demo, y_train_demo)\n",
        "y_pred_gnb_demo = gnb_demo.predict(X_test_demo)\n",
        "\n",
        "# Model training completed\n",
        "print(\"Naïve Bayes models have been trained successfully on the Global PCOS Demographics dataset.\")\n"
      ],
      "metadata": {
        "colab": {
          "base_uri": "https://localhost:8080/"
        },
        "id": "i46a09dqoC59",
        "outputId": "e77436d1-96ad-4e56-cf76-d6ad2512400d"
      },
      "execution_count": 8,
      "outputs": [
        {
          "output_type": "stream",
          "name": "stdout",
          "text": [
            "Naïve Bayes models have been trained successfully on the Global PCOS Demographics dataset.\n"
          ]
        }
      ]
    },
    {
      "cell_type": "code",
      "source": [
        "# Step 5: Evaluating the Model Performance\n",
        "\n",
        "from sklearn.metrics import accuracy_score, confusion_matrix\n",
        "\n",
        "# Calculate accuracy for each model\n",
        "accuracy_mnb_demo = accuracy_score(y_test_demo, y_pred_mnb_demo)\n",
        "accuracy_bnb_demo = accuracy_score(y_test_demo, y_pred_bnb_demo)\n",
        "accuracy_gnb_demo = accuracy_score(y_test_demo, y_pred_gnb_demo)\n",
        "\n",
        "# Compute confusion matrices\n",
        "conf_matrix_mnb_demo = confusion_matrix(y_test_demo, y_pred_mnb_demo)\n",
        "conf_matrix_bnb_demo = confusion_matrix(y_test_demo, y_pred_bnb_demo)\n",
        "conf_matrix_gnb_demo = confusion_matrix(y_test_demo, y_pred_gnb_demo)\n",
        "\n",
        "# Display accuracy results\n",
        "print(\"Model Accuracy Scores:\")\n",
        "print(f\"Multinomial Naïve Bayes Accuracy: {accuracy_mnb_demo:.2f}\")\n",
        "print(f\"Bernoulli Naïve Bayes Accuracy: {accuracy_bnb_demo:.2f}\")\n",
        "print(f\"Gaussian Naïve Bayes Accuracy: {accuracy_gnb_demo:.2f}\")\n",
        "\n",
        "# Display confusion matrices\n",
        "print(\"\\nConfusion Matrix - Multinomial NB:\")\n",
        "print(conf_matrix_mnb_demo)\n",
        "\n",
        "print(\"\\nConfusion Matrix - Bernoulli NB:\")\n",
        "print(conf_matrix_bnb_demo)\n",
        "\n",
        "print(\"\\nConfusion Matrix - Gaussian NB:\")\n",
        "print(conf_matrix_gnb_demo)\n"
      ],
      "metadata": {
        "colab": {
          "base_uri": "https://localhost:8080/"
        },
        "id": "UyBMI061oKf2",
        "outputId": "b2193fc5-5592-4b0c-ec52-05a1346efd6b"
      },
      "execution_count": 9,
      "outputs": [
        {
          "output_type": "stream",
          "name": "stdout",
          "text": [
            "Model Accuracy Scores:\n",
            "Multinomial Naïve Bayes Accuracy: 0.89\n",
            "Bernoulli Naïve Bayes Accuracy: 0.89\n",
            "Gaussian Naïve Bayes Accuracy: 0.89\n",
            "\n",
            "Confusion Matrix - Multinomial NB:\n",
            "[[21457     0]\n",
            " [ 2543     0]]\n",
            "\n",
            "Confusion Matrix - Bernoulli NB:\n",
            "[[21457     0]\n",
            " [ 2543     0]]\n",
            "\n",
            "Confusion Matrix - Gaussian NB:\n",
            "[[21457     0]\n",
            " [ 2543     0]]\n"
          ]
        }
      ]
    },
    {
      "cell_type": "code",
      "source": [
        "# Step 6: Applying SMOTE to Address Class Imbalance\n",
        "\n",
        "from imblearn.over_sampling import SMOTE\n",
        "\n",
        "# Initialize SMOTE with random state for reproducibility\n",
        "smote = SMOTE(random_state=42)\n",
        "\n",
        "# Apply SMOTE to the dataset\n",
        "X_resampled, y_resampled = smote.fit_resample(X_demo, y_demo)\n",
        "\n",
        "# Splitting the resampled dataset into training and testing sets\n",
        "X_train_resampled, X_test_resampled, y_train_resampled, y_test_resampled = train_test_split(\n",
        "    X_resampled, y_resampled, test_size=0.2, random_state=42)\n",
        "\n",
        "# Display the new dataset distribution\n",
        "print(\"Resampled Training Set Shape:\", X_train_resampled.shape, y_train_resampled.shape)\n",
        "print(\"Resampled Testing Set Shape:\", X_test_resampled.shape, y_test_resampled.shape)\n",
        "\n",
        "# Check class distribution after SMOTE\n",
        "print(\"\\nClass Distribution After SMOTE:\")\n",
        "print(y_resampled.value_counts())\n"
      ],
      "metadata": {
        "colab": {
          "base_uri": "https://localhost:8080/"
        },
        "id": "rTD_r9beoRbs",
        "outputId": "5ed3d8c4-6337-4b5e-df2f-452b6ca26b54"
      },
      "execution_count": 10,
      "outputs": [
        {
          "output_type": "stream",
          "name": "stdout",
          "text": [
            "Resampled Training Set Shape: (171848, 5) (171848,)\n",
            "Resampled Testing Set Shape: (42962, 5) (42962,)\n",
            "\n",
            "Class Distribution After SMOTE:\n",
            "Diagnosis\n",
            "1    107405\n",
            "0    107405\n",
            "Name: count, dtype: int64\n"
          ]
        }
      ]
    },
    {
      "cell_type": "code",
      "source": [
        "# Step 7: Retraining Naïve Bayes Models on Balanced Data\n",
        "\n",
        "# Multinomial Naïve Bayes (MNB)\n",
        "mnb_resampled = MultinomialNB()\n",
        "mnb_resampled.fit(X_train_resampled, y_train_resampled)\n",
        "y_pred_mnb_resampled = mnb_resampled.predict(X_test_resampled)\n",
        "\n",
        "# Bernoulli Naïve Bayes (BNB)\n",
        "bnb_resampled = BernoulliNB()\n",
        "bnb_resampled.fit(X_train_resampled, y_train_resampled)\n",
        "y_pred_bnb_resampled = bnb_resampled.predict(X_test_resampled)\n",
        "\n",
        "# Gaussian Naïve Bayes (GNB)\n",
        "gnb_resampled = GaussianNB()\n",
        "gnb_resampled.fit(X_train_resampled, y_train_resampled)\n",
        "y_pred_gnb_resampled = gnb_resampled.predict(X_test_resampled)\n",
        "\n",
        "# Model retraining completed\n",
        "print(\"Naïve Bayes models have been retrained successfully on the balanced dataset.\")\n"
      ],
      "metadata": {
        "colab": {
          "base_uri": "https://localhost:8080/"
        },
        "id": "C_R4BPmdorOS",
        "outputId": "aa82d41a-f8ba-4519-97d3-b531148b8aa9"
      },
      "execution_count": 11,
      "outputs": [
        {
          "output_type": "stream",
          "name": "stdout",
          "text": [
            "Naïve Bayes models have been retrained successfully on the balanced dataset.\n"
          ]
        }
      ]
    },
    {
      "cell_type": "code",
      "source": [
        "# Step 8: Evaluating the Naïve Bayes Models on Balanced Data\n",
        "\n",
        "# Calculate accuracy for each model\n",
        "accuracy_mnb_resampled = accuracy_score(y_test_resampled, y_pred_mnb_resampled)\n",
        "accuracy_bnb_resampled = accuracy_score(y_test_resampled, y_pred_bnb_resampled)\n",
        "accuracy_gnb_resampled = accuracy_score(y_test_resampled, y_pred_gnb_resampled)\n",
        "\n",
        "# Compute confusion matrices\n",
        "conf_matrix_mnb_resampled = confusion_matrix(y_test_resampled, y_pred_mnb_resampled)\n",
        "conf_matrix_bnb_resampled = confusion_matrix(y_test_resampled, y_pred_bnb_resampled)\n",
        "conf_matrix_gnb_resampled = confusion_matrix(y_test_resampled, y_pred_gnb_resampled)\n",
        "\n",
        "# Display accuracy results\n",
        "print(\"Model Accuracy Scores After Balancing:\")\n",
        "print(f\"Multinomial Naïve Bayes Accuracy: {accuracy_mnb_resampled:.2f}\")\n",
        "print(f\"Bernoulli Naïve Bayes Accuracy: {accuracy_bnb_resampled:.2f}\")\n",
        "print(f\"Gaussian Naïve Bayes Accuracy: {accuracy_gnb_resampled:.2f}\")\n",
        "\n",
        "# Display confusion matrices\n",
        "print(\"\\nConfusion Matrix - Multinomial NB After Balancing:\")\n",
        "print(conf_matrix_mnb_resampled)\n",
        "\n",
        "print(\"\\nConfusion Matrix - Bernoulli NB After Balancing:\")\n",
        "print(conf_matrix_bnb_resampled)\n",
        "\n",
        "print(\"\\nConfusion Matrix - Gaussian NB After Balancing:\")\n",
        "print(conf_matrix_gnb_resampled)\n"
      ],
      "metadata": {
        "colab": {
          "base_uri": "https://localhost:8080/"
        },
        "id": "OhOaqYi5o9eY",
        "outputId": "161950cf-2875-4bbc-a58f-3830a2c684e6"
      },
      "execution_count": 12,
      "outputs": [
        {
          "output_type": "stream",
          "name": "stdout",
          "text": [
            "Model Accuracy Scores After Balancing:\n",
            "Multinomial Naïve Bayes Accuracy: 0.50\n",
            "Bernoulli Naïve Bayes Accuracy: 0.50\n",
            "Gaussian Naïve Bayes Accuracy: 0.51\n",
            "\n",
            "Confusion Matrix - Multinomial NB After Balancing:\n",
            "[[13031  8350]\n",
            " [13214  8367]]\n",
            "\n",
            "Confusion Matrix - Bernoulli NB After Balancing:\n",
            "[[20291  1090]\n",
            " [20423  1158]]\n",
            "\n",
            "Confusion Matrix - Gaussian NB After Balancing:\n",
            "[[ 9723 11658]\n",
            " [ 9490 12091]]\n"
          ]
        }
      ]
    },
    {
      "cell_type": "code",
      "source": [
        "from sklearn.model_selection import GridSearchCV\n",
        "\n",
        "# Step 9: Hyperparameter Tuning to Improve Accuracy\n",
        "\n",
        "# Hyperparameter grid for MultinomialNB\n",
        "mnb_params = {'alpha': [0.1, 0.5, 1.0, 1.5, 2.0]}\n",
        "mnb_grid = GridSearchCV(MultinomialNB(), mnb_params, cv=5)\n",
        "mnb_grid.fit(X_train_resampled, y_train_resampled)\n",
        "y_pred_mnb_tuned = mnb_grid.predict(X_test_resampled)\n",
        "\n",
        "# Hyperparameter grid for BernoulliNB\n",
        "bnb_params = {'alpha': [0.1, 0.5, 1.0, 1.5, 2.0], 'binarize': [0.0, 0.5, 1.0]}\n",
        "bnb_grid = GridSearchCV(BernoulliNB(), bnb_params, cv=5)\n",
        "bnb_grid.fit(X_train_resampled, y_train_resampled)\n",
        "y_pred_bnb_tuned = bnb_grid.predict(X_test_resampled)\n",
        "\n",
        "# GaussianNB has no key hyperparameters like alpha or binarize, so use as is\n",
        "gnb_tuned = GaussianNB()\n",
        "gnb_tuned.fit(X_train_resampled, y_train_resampled)\n",
        "y_pred_gnb_tuned = gnb_tuned.predict(X_test_resampled)\n",
        "\n",
        "# Evaluate tuned models\n",
        "accuracy_mnb_tuned = accuracy_score(y_test_resampled, y_pred_mnb_tuned)\n",
        "accuracy_bnb_tuned = accuracy_score(y_test_resampled, y_pred_bnb_tuned)\n",
        "accuracy_gnb_tuned = accuracy_score(y_test_resampled, y_pred_gnb_tuned)\n",
        "\n",
        "# Confusion matrices\n",
        "conf_matrix_mnb_tuned = confusion_matrix(y_test_resampled, y_pred_mnb_tuned)\n",
        "conf_matrix_bnb_tuned = confusion_matrix(y_test_resampled, y_pred_bnb_tuned)\n",
        "conf_matrix_gnb_tuned = confusion_matrix(y_test_resampled, y_pred_gnb_tuned)\n",
        "\n",
        "# Display accuracy results\n",
        "print(\"Tuned Model Accuracy Scores:\")\n",
        "print(f\"Multinomial NB (Best alpha={mnb_grid.best_params_['alpha']}): {accuracy_mnb_tuned:.2f}\")\n",
        "print(f\"Bernoulli NB (Best params={bnb_grid.best_params_}): {accuracy_bnb_tuned:.2f}\")\n",
        "print(f\"Gaussian NB (default): {accuracy_gnb_tuned:.2f}\")\n",
        "\n",
        "# Display confusion matrices\n",
        "print(\"\\nConfusion Matrix - Tuned Multinomial NB:\")\n",
        "print(conf_matrix_mnb_tuned)\n",
        "\n",
        "print(\"\\nConfusion Matrix - Tuned Bernoulli NB:\")\n",
        "print(conf_matrix_bnb_tuned)\n",
        "\n",
        "print(\"\\nConfusion Matrix - Gaussian NB (default):\")\n",
        "print(conf_matrix_gnb_tuned)\n"
      ],
      "metadata": {
        "colab": {
          "base_uri": "https://localhost:8080/"
        },
        "id": "dHF3Ad1axozp",
        "outputId": "95f0253b-7b7e-402c-a9b7-2e64b5a20c20"
      },
      "execution_count": 13,
      "outputs": [
        {
          "output_type": "stream",
          "name": "stdout",
          "text": [
            "Tuned Model Accuracy Scores:\n",
            "Multinomial NB (Best alpha=1.0): 0.50\n",
            "Bernoulli NB (Best params={'alpha': 0.1, 'binarize': 0.0}): 0.50\n",
            "Gaussian NB (default): 0.51\n",
            "\n",
            "Confusion Matrix - Tuned Multinomial NB:\n",
            "[[13031  8350]\n",
            " [13214  8367]]\n",
            "\n",
            "Confusion Matrix - Tuned Bernoulli NB:\n",
            "[[20291  1090]\n",
            " [20423  1158]]\n",
            "\n",
            "Confusion Matrix - Gaussian NB (default):\n",
            "[[ 9723 11658]\n",
            " [ 9490 12091]]\n"
          ]
        }
      ]
    },
    {
      "cell_type": "code",
      "source": [
        "# Step 9: Visualizing the Results with Confusion Matrix Heatmaps\n",
        "\n",
        "import matplotlib.pyplot as plt\n",
        "import seaborn as sns\n",
        "\n",
        "# Set up figure and axes for multiple confusion matrices\n",
        "fig, axes = plt.subplots(1, 3, figsize=(18, 5))\n",
        "\n",
        "# Plot Confusion Matrix for Multinomial Naïve Bayes\n",
        "sns.heatmap(conf_matrix_mnb_resampled, annot=True, fmt=\"d\", cmap=\"Blues\", ax=axes[0])\n",
        "axes[0].set_title(f\"Multinomial NB Confusion Matrix\\nAccuracy: {accuracy_mnb_resampled:.2f}\")\n",
        "\n",
        "# Plot Confusion Matrix for Bernoulli Naïve Bayes\n",
        "sns.heatmap(conf_matrix_bnb_resampled, annot=True, fmt=\"d\", cmap=\"Greens\", ax=axes[1])\n",
        "axes[1].set_title(f\"Bernoulli NB Confusion Matrix\\nAccuracy: {accuracy_bnb_resampled:.2f}\")\n",
        "\n",
        "# Plot Confusion Matrix for Gaussian Naïve Bayes\n",
        "sns.heatmap(conf_matrix_gnb_resampled, annot=True, fmt=\"d\", cmap=\"Oranges\", ax=axes[2])\n",
        "axes[2].set_title(f\"Gaussian NB Confusion Matrix\\nAccuracy: {accuracy_gnb_resampled:.2f}\")\n",
        "\n",
        "# Display the visualizations\n",
        "plt.show()\n"
      ],
      "metadata": {
        "colab": {
          "base_uri": "https://localhost:8080/",
          "height": 321
        },
        "id": "n1HNiP2epHXw",
        "outputId": "fa9fc065-7b58-4b6a-fac6-123ecdde12c6"
      },
      "execution_count": 14,
      "outputs": [
        {
          "output_type": "display_data",
          "data": {
            "text/plain": [
              "<Figure size 1800x500 with 6 Axes>"
            ],
            "image/png": "[encoded data removed]"
          },
          "metadata": {}
        }
      ]
    },
    {
      "cell_type": "code",
      "source": [],
      "metadata": {
        "id": "Hac3GsVYq2A7"
      },
      "execution_count": null,
      "outputs": []
    }
  ]
}