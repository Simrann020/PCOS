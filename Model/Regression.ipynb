{
  "nbformat": 4,
  "nbformat_minor": 0,
  "metadata": {
    "colab": {
      "provenance": []
    },
    "kernelspec": {
      "name": "python3",
      "display_name": "Python 3"
    },
    "language_info": {
      "name": "python"
    }
  },
  "cells": [
    {
      "cell_type": "code",
      "execution_count": 2,
      "metadata": {
        "colab": {
          "base_uri": "https://localhost:8080/"
        },
        "id": "dYThdur78UAR",
        "outputId": "494e07dd-7e0d-4c48-dd80-308c55f02815"
      },
      "outputs": [
        {
          "output_type": "stream",
          "name": "stdout",
          "text": [
            "Raw Core PCOS Dataset Sample:\n",
            "   Sl. No  Patient File No.  PCOS (Y/N)   Age (yrs)  Weight (Kg)  Height(Cm)   \\\n",
            "0       1                 1           0        28.0         44.6        152.0   \n",
            "1       2                 2           0        36.0         65.0        161.5   \n",
            "2       3                 3           1        33.0         68.8        165.0   \n",
            "3       4                 4           0        37.0         65.0        148.0   \n",
            "4       5                 5           0        25.0         52.0        161.0   \n",
            "\n",
            "    BMI  Blood Group  Pulse rate(bpm)   RR (breaths/min)  ...  Pimples(Y/N)  \\\n",
            "0  19.3         15.0              78.0              22.0  ...           0.0   \n",
            "1  24.9         15.0              74.0              20.0  ...           0.0   \n",
            "2  25.3         11.0              72.0              18.0  ...           1.0   \n",
            "3  29.7         13.0              72.0              20.0  ...           0.0   \n",
            "4  20.1         11.0              72.0              18.0  ...           0.0   \n",
            "\n",
            "   Fast food (Y/N)  Reg.Exercise(Y/N)  BP _Systolic (mmHg)  \\\n",
            "0              1.0                0.0                110.0   \n",
            "1              0.0                0.0                120.0   \n",
            "2              1.0                0.0                120.0   \n",
            "3              0.0                0.0                120.0   \n",
            "4              0.0                0.0                120.0   \n",
            "\n",
            "   BP _Diastolic (mmHg)  Follicle No. (L)  Follicle No. (R)  \\\n",
            "0                  80.0               3.0               3.0   \n",
            "1                  70.0               3.0               5.0   \n",
            "2                  80.0              13.0              15.0   \n",
            "3                  70.0               2.0               2.0   \n",
            "4                  80.0               3.0               4.0   \n",
            "\n",
            "   Avg. F size (L) (mm)  Avg. F size (R) (mm)  Endometrium (mm)  \n",
            "0                  18.0                  18.0               8.5  \n",
            "1                  15.0                  14.0               3.7  \n",
            "2                  18.0                  20.0              10.0  \n",
            "3                  15.0                  14.0               7.5  \n",
            "4                  16.0                  14.0               7.0  \n",
            "\n",
            "[5 rows x 44 columns]\n"
          ]
        }
      ],
      "source": [
        "# Step 1: Load the dataset and display a sample\n",
        "import pandas as pd\n",
        "\n",
        "# Load the Core PCOS Dataset\n",
        "core_pcos_df = pd.read_csv(\"Core_PCOS_Dataset_Cleaned.csv\")\n",
        "\n",
        "# Display a sample of the raw dataset before preprocessing\n",
        "print(\"Raw Core PCOS Dataset Sample:\")\n",
        "print(core_pcos_df.head())\n"
      ]
    },
    {
      "cell_type": "code",
      "source": [
        "# Step 2\n",
        "\n",
        "import pandas as pd\n",
        "from sklearn.model_selection import train_test_split\n",
        "from sklearn.preprocessing import MinMaxScaler\n",
        "\n",
        "# Clean column names to remove hidden whitespace\n",
        "core_pcos_df.columns = core_pcos_df.columns.str.strip()\n",
        "\n",
        "# Define feature columns and target variable\n",
        "selected_features = [\n",
        "    \"Age (yrs)\", \"BMI\", \"hair growth(Y/N)\", \"Hair loss(Y/N)\", \"Pimples(Y/N)\",\n",
        "    \"Fast food (Y/N)\", \"Reg.Exercise(Y/N)\"\n",
        "]\n",
        "target_column = \"PCOS (Y/N)\"\n",
        "\n",
        "# Select data\n",
        "X = core_pcos_df[selected_features].copy()\n",
        "y = core_pcos_df[target_column].astype(int)\n",
        "\n",
        "# Drop rows with missing values\n",
        "X = X.dropna()\n",
        "y = y.loc[X.index]\n",
        "\n",
        "# Normalize numeric features for Logistic Regression\n",
        "scaler = MinMaxScaler()\n",
        "X_scaled = scaler.fit_transform(X)\n",
        "\n",
        "# Train-test split\n",
        "X_train, X_test, y_train, y_test = train_test_split(\n",
        "    X_scaled, y, test_size=0.2, random_state=42\n",
        ")\n",
        "\n",
        "# Convert scaled arrays back to DataFrames for display\n",
        "X_scaled_df = pd.DataFrame(X_scaled, columns=selected_features)\n",
        "X_train_df = pd.DataFrame(X_train, columns=selected_features)\n",
        "X_test_df = pd.DataFrame(X_test, columns=selected_features)\n",
        "y_train_df = pd.DataFrame(y_train).reset_index(drop=True)\n",
        "y_test_df = pd.DataFrame(y_test).reset_index(drop=True)\n",
        "\n",
        "# Add target to show full cleaned dataset\n",
        "cleaned_df = X_scaled_df.copy()\n",
        "cleaned_df[\"PCOS (Y/N)\"] = y.values\n",
        "\n",
        "# Create labeled samples of train/test sets\n",
        "train_data_sample = pd.concat([X_train_df.reset_index(drop=True), y_train_df], axis=1)\n",
        "test_data_sample = pd.concat([X_test_df.reset_index(drop=True), y_test_df], axis=1)\n",
        "\n",
        "# Display samples\n",
        "print(\"Cleaned and Scaled Dataset Sample:\")\n",
        "print(cleaned_df.head(25).to_string(index=False))\n",
        "\n",
        "# Display the shapes of the training and testing sets\n",
        "print(\"\\nTraining Set Shape:\", X_train.shape, y_train.shape)\n",
        "print(\"Testing Set Shape:\", X_test.shape, y_test.shape)\n",
        "\n",
        "print(\"\\nTraining Data Sample:\")\n",
        "print(train_data_sample.head(15).to_string(index=False))\n",
        "\n",
        "print(\"\\nTesting Data Sample:\")\n",
        "print(test_data_sample.head(15).to_string(index=False))\n"
      ],
      "metadata": {
        "colab": {
          "base_uri": "https://localhost:8080/"
        },
        "id": "xyskIo3D8xJp",
        "outputId": "d40422f9-45e9-45bb-9627-53d7808cd55e"
      },
      "execution_count": 12,
      "outputs": [
        {
          "output_type": "stream",
          "name": "stdout",
          "text": [
            "Cleaned and Scaled Dataset Sample:\n",
            " Age (yrs)      BMI  hair growth(Y/N)  Hair loss(Y/N)  Pimples(Y/N)  Fast food (Y/N)  Reg.Exercise(Y/N)  PCOS (Y/N)\n",
            "  0.285714 0.260377               0.0             0.0           0.0              1.0                0.0           0\n",
            "  0.571429 0.471698               0.0             0.0           0.0              0.0                0.0           0\n",
            "  0.464286 0.486792               0.0             1.0           1.0              1.0                0.0           1\n",
            "  0.607143 0.652830               0.0             0.0           0.0              0.0                0.0           0\n",
            "  0.178571 0.290566               0.0             1.0           0.0              0.0                0.0           0\n",
            "  0.571429 0.558491               0.0             1.0           0.0              0.0                0.0           0\n",
            "  0.500000 0.524528               0.0             0.0           0.0              0.0                0.0           0\n",
            "  0.464286 0.403774               0.0             0.0           0.0              0.0                0.0           0\n",
            "  0.428571 0.135849               0.0             0.0           0.0              0.0                0.0           0\n",
            "  0.571429 0.403774               0.0             0.0           0.0              0.0                0.0           0\n",
            "  0.000000 0.539623               0.0             0.0           0.0              0.0                0.0           0\n",
            "  0.214286 0.252830               0.0             0.0           0.0              0.0                0.0           0\n",
            "  0.178571 0.739623               1.0             1.0           1.0              1.0                1.0           1\n",
            "  0.642857 0.347170               0.0             0.0           0.0              0.0                0.0           0\n",
            "  0.500000 0.354717               0.0             1.0           1.0              1.0                0.0           0\n",
            "  0.642857 0.811321               0.0             0.0           0.0              0.0                0.0           0\n",
            "  0.321429 0.271698               0.0             0.0           0.0              0.0                0.0           0\n",
            "  0.571429 0.550943               0.0             0.0           0.0              0.0                0.0           0\n",
            "  0.392857 0.313208               0.0             0.0           0.0              0.0                0.0           0\n",
            "  0.357143 0.709434               1.0             1.0           1.0              1.0                0.0           1\n",
            "  0.178571 0.524528               0.0             0.0           0.0              0.0                0.0           0\n",
            "  0.642857 0.305660               0.0             0.0           0.0              0.0                0.0           0\n",
            "  0.500000 0.539623               0.0             0.0           0.0              0.0                0.0           0\n",
            "  0.285714 0.592453               0.0             0.0           1.0              0.0                0.0           0\n",
            "  0.500000 0.483019               1.0             0.0           1.0              1.0                0.0           1\n",
            "\n",
            "Training Set Shape: (865, 7) (865,)\n",
            "Testing Set Shape: (217, 7) (217,)\n",
            "\n",
            "Training Data Sample:\n",
            " Age (yrs)      BMI  hair growth(Y/N)  Hair loss(Y/N)  Pimples(Y/N)  Fast food (Y/N)  Reg.Exercise(Y/N)  PCOS (Y/N)\n",
            "  0.392857 0.445283               0.0             0.0           0.0              1.0                0.0           1\n",
            "  0.178571 0.200000               0.0             1.0           1.0              0.0                0.0           1\n",
            "  0.392857 0.445283               0.0             0.0           0.0              1.0                0.0           0\n",
            "  0.392857 0.445283               0.0             0.0           0.0              1.0                0.0           0\n",
            "  0.250000 0.298113               0.0             0.0           0.0              0.0                1.0           1\n",
            "  0.750000 0.158491               1.0             0.0           1.0              0.0                0.0           1\n",
            "  0.392857 0.445283               0.0             0.0           0.0              1.0                0.0           1\n",
            "  0.571429 0.467925               0.0             1.0           1.0              1.0                0.0           0\n",
            "  0.392857 0.445283               0.0             0.0           0.0              1.0                0.0           1\n",
            "  0.392857 0.445283               0.0             0.0           0.0              1.0                0.0           1\n",
            "  0.392857 0.445283               0.0             0.0           0.0              1.0                0.0           0\n",
            "  0.392857 0.445283               0.0             0.0           0.0              1.0                0.0           1\n",
            "  0.392857 0.445283               0.0             0.0           0.0              1.0                0.0           0\n",
            "  0.250000 0.467925               1.0             1.0           1.0              0.0                0.0           0\n",
            "  0.392857 0.445283               0.0             0.0           0.0              1.0                0.0           0\n",
            "\n",
            "Testing Data Sample:\n",
            " Age (yrs)      BMI  hair growth(Y/N)  Hair loss(Y/N)  Pimples(Y/N)  Fast food (Y/N)  Reg.Exercise(Y/N)  PCOS (Y/N)\n",
            "  0.642857 0.358491               0.0             0.0           0.0              0.0                0.0           0\n",
            "  0.357143 0.169811               0.0             0.0           0.0              0.0                1.0           1\n",
            "  0.392857 0.445283               0.0             0.0           0.0              1.0                0.0           0\n",
            "  0.392857 0.445283               0.0             0.0           0.0              1.0                0.0           0\n",
            "  0.107143 0.347170               0.0             0.0           0.0              0.0                0.0           0\n",
            "  0.392857 0.445283               0.0             0.0           0.0              1.0                0.0           0\n",
            "  0.392857 0.445283               0.0             0.0           0.0              1.0                0.0           0\n",
            "  0.392857 0.445283               0.0             0.0           0.0              1.0                0.0           0\n",
            "  0.464286 0.437736               0.0             0.0           0.0              0.0                0.0           0\n",
            "  0.392857 0.445283               0.0             0.0           0.0              1.0                0.0           0\n",
            "  0.392857 0.445283               0.0             0.0           0.0              1.0                0.0           1\n",
            "  0.392857 0.445283               0.0             0.0           0.0              1.0                0.0           0\n",
            "  0.500000 0.596226               0.0             0.0           0.0              0.0                0.0           0\n",
            "  0.392857 0.445283               0.0             0.0           0.0              1.0                0.0           0\n",
            "  0.392857 0.445283               0.0             0.0           0.0              1.0                0.0           1\n"
          ]
        }
      ]
    },
    {
      "cell_type": "code",
      "source": [
        "# Step 3: Train and Evaluate Logistic Regression vs Multinomial Naïve Bayes\n",
        "\n",
        "from sklearn.linear_model import LogisticRegression\n",
        "from sklearn.naive_bayes import MultinomialNB\n",
        "from sklearn.metrics import accuracy_score, confusion_matrix\n",
        "\n",
        "# Logistic Regression\n",
        "log_model = LogisticRegression(max_iter=1000, random_state=42)\n",
        "log_model.fit(X_train, y_train)\n",
        "y_pred_log = log_model.predict(X_test)\n",
        "acc_log = accuracy_score(y_test, y_pred_log)\n",
        "cm_log = confusion_matrix(y_test, y_pred_log)\n",
        "\n",
        "# Multinomial Naïve Bayes\n",
        "mnb_model = MultinomialNB()\n",
        "mnb_model.fit(X_train, y_train)\n",
        "y_pred_mnb = mnb_model.predict(X_test)\n",
        "acc_mnb = accuracy_score(y_test, y_pred_mnb)\n",
        "cm_mnb = confusion_matrix(y_test, y_pred_mnb)\n",
        "\n",
        "# Step 3 (Expanded): Print Regression Results and Confusion Matrices Clearly\n",
        "\n",
        "# Format and print results for Logistic Regression\n",
        "print(\"Logistic Regression Results\")\n",
        "print(f\"Accuracy: {acc_log:.2f}\")\n",
        "print(\"Confusion Matrix:\")\n",
        "print(cm_log)\n",
        "\n",
        "# Format and print results for Multinomial Naïve Bayes\n",
        "print(\"\\nMultinomial Naïve Bayes Results\")\n",
        "print(f\"Accuracy: {acc_mnb:.2f}\")\n",
        "print(\"Confusion Matrix:\")\n",
        "print(cm_mnb)\n",
        "\n"
      ],
      "metadata": {
        "colab": {
          "base_uri": "https://localhost:8080/"
        },
        "id": "0wVzFstV84Ot",
        "outputId": "2c4b334a-a94d-4f08-f82f-82316f621906"
      },
      "execution_count": 10,
      "outputs": [
        {
          "output_type": "stream",
          "name": "stdout",
          "text": [
            "Logistic Regression Results\n",
            "Accuracy: 0.76\n",
            "Confusion Matrix:\n",
            "[[140   8]\n",
            " [ 44  25]]\n",
            "\n",
            "Multinomial Naïve Bayes Results\n",
            "Accuracy: 0.75\n",
            "Confusion Matrix:\n",
            "[[141   7]\n",
            " [ 48  21]]\n"
          ]
        }
      ]
    },
    {
      "cell_type": "code",
      "source": [
        "# Step 4: Visualizing the Confusion Matrices for Both Models\n",
        "\n",
        "import matplotlib.pyplot as plt\n",
        "import seaborn as sns\n",
        "\n",
        "# Plot side-by-side confusion matrices\n",
        "fig, axes = plt.subplots(1, 2, figsize=(12, 5))\n",
        "\n",
        "# Logistic Regression\n",
        "sns.heatmap(cm_log, annot=True, fmt=\"d\", cmap=\"Blues\", ax=axes[0],\n",
        "            xticklabels=[\"No PCOS\", \"PCOS\"], yticklabels=[\"No PCOS\", \"PCOS\"])\n",
        "axes[0].set_title(f\"Logistic Regression\\nAccuracy: {acc_log:.2f}\")\n",
        "axes[0].set_xlabel(\"Predicted\")\n",
        "axes[0].set_ylabel(\"Actual\")\n",
        "\n",
        "# Multinomial Naïve Bayes\n",
        "sns.heatmap(cm_mnb, annot=True, fmt=\"d\", cmap=\"Greens\", ax=axes[1],\n",
        "            xticklabels=[\"No PCOS\", \"PCOS\"], yticklabels=[\"No PCOS\", \"PCOS\"])\n",
        "axes[1].set_title(f\"Multinomial Naïve Bayes\\nAccuracy: {acc_mnb:.2f}\")\n",
        "axes[1].set_xlabel(\"Predicted\")\n",
        "axes[1].set_ylabel(\"Actual\")\n",
        "\n",
        "plt.tight_layout()\n",
        "plt.show()\n"
      ],
      "metadata": {
        "id": "97Mtfziz-uKM",
        "colab": {
          "base_uri": "https://localhost:8080/",
          "height": 410
        },
        "outputId": "7d10f2c1-d091-459c-bac2-6598cbe824b3"
      },
      "execution_count": 6,
      "outputs": [
        {
          "output_type": "display_data",
          "data": {
            "text/plain": [
              "<Figure size 1200x500 with 4 Axes>"
            ],
            "image/png": "[encoded data removed]"
          },
          "metadata": {}
        }
      ]
    },
    {
      "cell_type": "code",
      "source": [],
      "metadata": {
        "id": "e3UlCjJ4KXR4"
      },
      "execution_count": null,
      "outputs": []
    }
  ]
}